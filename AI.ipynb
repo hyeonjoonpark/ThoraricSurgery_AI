{
  "nbformat": 4,
  "nbformat_minor": 0,
  "metadata": {
    "colab": {
      "provenance": []
    },
    "kernelspec": {
      "name": "python3",
      "display_name": "Python 3"
    },
    "language_info": {
      "name": "python"
    }
  },
  "cells": [
    {
      "cell_type": "code",
      "execution_count": null,
      "metadata": {
        "colab": {
          "base_uri": "https://localhost:8080/"
        },
        "id": "xQ9Krkz5IPqn",
        "outputId": "8d9fec93-7627-486c-f423-d7037f5f3a59"
      },
      "outputs": [
        {
          "output_type": "stream",
          "name": "stderr",
          "text": [
            "WARNING:tensorflow:From /usr/local/lib/python3.8/dist-packages/tensorflow/python/compat/v2_compat.py:107: disable_resource_variables (from tensorflow.python.ops.variable_scope) is deprecated and will be removed in a future version.\n",
            "Instructions for updating:\n",
            "non-resource variables are not supported in the long term\n"
          ]
        },
        {
          "output_type": "stream",
          "name": "stdout",
          "text": [
            "Mounted at /colab/\n",
            "Train on 469 samples\n",
            "Epoch 1/30\n",
            "469/469 [==============================] - 0s 597us/sample - loss: 0.6657 - acc: 0.3006\n",
            "Epoch 2/30\n",
            "469/469 [==============================] - 0s 162us/sample - loss: 0.2986 - acc: 0.6887\n",
            "Epoch 3/30\n",
            "469/469 [==============================] - 0s 216us/sample - loss: 0.1493 - acc: 0.8507\n",
            "Epoch 4/30\n",
            "469/469 [==============================] - 0s 203us/sample - loss: 0.1493 - acc: 0.8507\n",
            "Epoch 5/30\n",
            "469/469 [==============================] - 0s 179us/sample - loss: 0.1493 - acc: 0.8507\n",
            "Epoch 6/30\n",
            "469/469 [==============================] - 0s 172us/sample - loss: 0.1493 - acc: 0.8507\n",
            "Epoch 7/30\n",
            "469/469 [==============================] - 0s 259us/sample - loss: 0.1493 - acc: 0.8507\n",
            "Epoch 8/30\n",
            "469/469 [==============================] - 0s 288us/sample - loss: 0.1493 - acc: 0.8507\n",
            "Epoch 9/30\n",
            "469/469 [==============================] - 0s 296us/sample - loss: 0.1493 - acc: 0.8507\n",
            "Epoch 10/30\n",
            "469/469 [==============================] - 0s 373us/sample - loss: 0.1493 - acc: 0.8507\n",
            "Epoch 11/30\n",
            "469/469 [==============================] - 0s 268us/sample - loss: 0.1493 - acc: 0.8507\n",
            "Epoch 12/30\n",
            "469/469 [==============================] - 0s 197us/sample - loss: 0.1493 - acc: 0.8507\n",
            "Epoch 13/30\n",
            "469/469 [==============================] - 0s 193us/sample - loss: 0.1493 - acc: 0.8507\n",
            "Epoch 14/30\n",
            "469/469 [==============================] - 0s 188us/sample - loss: 0.1493 - acc: 0.8507\n",
            "Epoch 15/30\n",
            "469/469 [==============================] - 0s 400us/sample - loss: 0.1493 - acc: 0.8507\n",
            "Epoch 16/30\n",
            "469/469 [==============================] - 0s 269us/sample - loss: 0.1493 - acc: 0.8507\n",
            "Epoch 17/30\n",
            "469/469 [==============================] - 0s 261us/sample - loss: 0.1493 - acc: 0.8507\n",
            "Epoch 18/30\n",
            "469/469 [==============================] - 0s 237us/sample - loss: 0.1493 - acc: 0.8507\n",
            "Epoch 19/30\n",
            "469/469 [==============================] - 0s 382us/sample - loss: 0.1493 - acc: 0.8507\n",
            "Epoch 20/30\n",
            "469/469 [==============================] - 0s 211us/sample - loss: 0.1493 - acc: 0.8507\n",
            "Epoch 21/30\n",
            "469/469 [==============================] - 0s 184us/sample - loss: 0.1493 - acc: 0.8507\n",
            "Epoch 22/30\n",
            "469/469 [==============================] - 0s 291us/sample - loss: 0.1493 - acc: 0.8507\n",
            "Epoch 23/30\n",
            "469/469 [==============================] - 0s 294us/sample - loss: 0.1493 - acc: 0.8507\n",
            "Epoch 24/30\n",
            "469/469 [==============================] - 0s 314us/sample - loss: 0.1493 - acc: 0.8507\n",
            "Epoch 25/30\n",
            "469/469 [==============================] - 0s 230us/sample - loss: 0.1493 - acc: 0.8507\n",
            "Epoch 26/30\n",
            "469/469 [==============================] - 0s 228us/sample - loss: 0.1493 - acc: 0.8507\n",
            "Epoch 27/30\n",
            "469/469 [==============================] - 0s 226us/sample - loss: 0.1493 - acc: 0.8507\n",
            "Epoch 28/30\n",
            "469/469 [==============================] - 0s 259us/sample - loss: 0.1493 - acc: 0.8507\n",
            "Epoch 29/30\n",
            "469/469 [==============================] - 0s 161us/sample - loss: 0.1493 - acc: 0.8507\n",
            "Epoch 30/30\n",
            "469/469 [==============================] - 0s 211us/sample - loss: 0.1493 - acc: 0.8507\n",
            "\n",
            " Accuracy : $.4f\n"
          ]
        },
        {
          "output_type": "stream",
          "name": "stderr",
          "text": [
            "/usr/local/lib/python3.8/dist-packages/keras/engine/training_v1.py:2045: UserWarning: `Model.state_updates` will be removed in a future version. This property should not be used in TensorFlow 2.0, as `updates` are applied automatically.\n",
            "  updates = self.state_updates\n"
          ]
        }
      ],
      "source": [
        "# 딥러닝 구동 케라스 함수 불러오기\n",
        "from keras.models import Sequential\n",
        "from keras.layers import Dense\n",
        "\n",
        "# 라이브러리 불러오기\n",
        "import numpy as np\n",
        "import pandas as pd\n",
        "import tensorflow.compat.v1 as tf\n",
        "tf.disable_v2_behavior()\n",
        "\n",
        "from google.colab import drive\n",
        "drive.mount('/colab/')\n",
        "\n",
        "# 실행할 때마다 같은 결과를 출력하기 위해 설정\n",
        "seed = 0\n",
        "np.random.seed(seed)\n",
        "tf.set_random_seed(seed)\n",
        "\n",
        "# 수술 환자 데이터 불러오기\n",
        "Data_set = pd.read_csv(\"/colab/MyDrive/colab/ThoraricSurgery.csv\")\n",
        "Data_set=Data_set.to_numpy()\n",
        "# 환자의 기록과 수술 결과를 X와 Y로 구분하여 저장\n",
        "X = Data_set[:,0:17]\n",
        "Y = Data_set[:,17]\n",
        "\n",
        "# 딥러닝 구조 결정\n",
        "model = Sequential()\n",
        "model.add(Dense(30, input_dim = 17, activation='relu'))\n",
        "model.add(Dense(1, activation = 'sigmoid'))\n",
        "\n",
        "# 딥러닝 실행\n",
        "model.compile(loss = 'mean_squared_error', optimizer = 'adam', metrics = ['accuracy'])\n",
        "model.fit(X, Y, epochs = 30, batch_size = 10)\n",
        "\n",
        "print(\"\\n Accuracy : $.4f\" %(model.evaluate(X, Y)[1]))"
      ]
    },
    {
      "cell_type": "code",
      "source": [
        "import numpy as np\n",
        "\n",
        "x = [2, 4, 6, 8]\n",
        "y = [81, 93, 91, 97]\n",
        "\n",
        "mx = np.mean(x)\n",
        "my = np.mean(y)\n",
        "\n",
        "print(\"x의 평균 값 :\", mx)\n",
        "print(\"y의 평균 값 :\", my)\n",
        "\n",
        "divisor = sum([(mx - i)**2 for i in x])\n",
        "def top(x, mx, y, my):\n",
        "  d = 0\n",
        "  for i in range(len(x)):\n",
        "    d += (x[i] - mx) * (y[i] - my)\n",
        "  return d\n",
        "dividend = top(x, mx, y, my)\n",
        "\n",
        "print(\"분모 :\", divisor)\n",
        "print(\"분자 :\", dividend)\n",
        "\n",
        "a = dividend / divisor\n",
        "b = my - (mx * a)\n",
        "\n",
        "print(\"기울기 a =\", a)\n",
        "print(\"y 절편 b =\", b)"
      ],
      "metadata": {
        "colab": {
          "base_uri": "https://localhost:8080/"
        },
        "id": "PYAYuFGMRwbB",
        "outputId": "45e2ed91-f505-45d2-9dad-f63852fe156d"
      },
      "execution_count": null,
      "outputs": [
        {
          "output_type": "stream",
          "name": "stdout",
          "text": [
            "x의 평균 값 : 5.0\n",
            "y의 평균 값 : 90.5\n",
            "분모 : 20.0\n",
            "분자 : 46.0\n",
            "기울기 a = 2.3\n",
            "y 절편 b = 79.0\n"
          ]
        }
      ]
    },
    {
      "cell_type": "code",
      "source": [
        "import numpy as np\n",
        "\n",
        "ab = [3,76]\n",
        "\n",
        "data = [[2, 81], [4, 93], [6, 91], [8, 97]]\n",
        "x = [i[0] for i in data]\n",
        "y = [i[1] for i in data]\n",
        "\n",
        "def predict(x):\n",
        "  return ab[0]*x + ab[1]\n",
        "\n",
        "def rmse(p, a):\n",
        "  return np.sqrt(((p-a)**2).mean())\n",
        "\n",
        "def rmse_val(predict_result, y):\n",
        "  return rmse(np.array(predict_result), np.array(y))\n",
        "\n",
        "predict_result = []\n",
        "\n",
        "for i in range(len(x)):\n",
        "  predict_result.append(predict(x[i]))\n",
        "  print(\"공부시간 = %.f, 실제점수 = %.f, 에측점수 = %.f\" %(x[i], y[i], predict(x[i])))\n",
        "\n",
        "print(\"rmse 최종 값 :\", str(rmse_val(predict_result, y)))"
      ],
      "metadata": {
        "colab": {
          "base_uri": "https://localhost:8080/"
        },
        "id": "JsaNCwVlWYdi",
        "outputId": "73bd4a4b-4026-4e16-e34a-a08e63af80fc"
      },
      "execution_count": null,
      "outputs": [
        {
          "output_type": "stream",
          "name": "stdout",
          "text": [
            "공부시간 = 2, 실제점수 = 81, 에측점수 = 82\n",
            "공부시간 = 4, 실제점수 = 93, 에측점수 = 88\n",
            "공부시간 = 6, 실제점수 = 91, 에측점수 = 94\n",
            "공부시간 = 8, 실제점수 = 97, 에측점수 = 100\n",
            "rmse 최종 값 : 3.3166247903554\n"
          ]
        }
      ]
    },
    {
      "cell_type": "code",
      "source": [
        "import tensorflow.compat.v1 as tf\n",
        "tf.disable_v2_behavior()\n",
        "data = [[2, 81], [4, 93], [6, 91], [8, 97]]\n",
        "x_data = [x_row[0] for x_row in data]\n",
        "y_data = [y_row[0] for y_row in data]\n",
        "\n",
        "a = tf.Variable(tf.random_uniform([1], 0, 10, dtype=tf.float64, seed = 0))\n",
        "b = tf.Variable(tf.random_uniform([1], 0, 100, dtype=tf.float64, seed = 0))\n",
        "\n",
        "y = a * x_data + b\n",
        "rmse = tf.sqrt(tf.reduce_mean(tf.square(y - y_data)))\n",
        "\n",
        "learning_rate = 0.1\n",
        "\n",
        "gradient_decent = tf.train.GradientDescentOptimizer(learning_rate).minimize(rmse)\n",
        "\n",
        "with tf.Session() as sess:\n",
        "  sess.run(tf.global_variables_initializer())\n",
        "  for step in range(2001):\n",
        "    sess.run(gradient_decent)\n",
        "    if step%100 == 0:\n",
        "      print(\"Epoch : %.f, RMSE = %.04f, 기울기 a = %.4f, y절편 b = %.4f\" %(step, sess.run(rmse), sess.run(a),sess.run(b)))"
      ],
      "metadata": {
        "colab": {
          "base_uri": "https://localhost:8080/"
        },
        "id": "_1LG0QyMbZPT",
        "outputId": "931f0927-977d-453a-dc4e-edc61bcb3e56"
      },
      "execution_count": null,
      "outputs": [
        {
          "output_type": "stream",
          "name": "stdout",
          "text": [
            "Epoch : 0, RMSE = 16.0381, 기울기 a = 1.0663, y절편 b = 15.7059\n",
            "Epoch : 100, RMSE = 4.6472, 기울기 a = -0.9074, y절편 b = 11.3824\n",
            "Epoch : 200, RMSE = 3.0258, 기울기 a = -0.2419, y절편 b = 7.4111\n",
            "Epoch : 300, RMSE = 1.4044, 기울기 a = 0.4236, y절편 b = 3.4399\n",
            "Epoch : 400, RMSE = 1.5414, 기울기 a = 1.1162, y절편 b = 0.9385\n",
            "Epoch : 500, RMSE = 1.5418, 기울기 a = 1.2209, y절편 b = 0.3563\n",
            "Epoch : 600, RMSE = 1.5419, 기울기 a = 1.2556, y절편 b = 0.1538\n",
            "Epoch : 700, RMSE = 1.5419, 기울기 a = 1.2675, y절편 b = 0.0834\n",
            "Epoch : 800, RMSE = 1.5419, 기울기 a = 1.2717, y절편 b = 0.0589\n",
            "Epoch : 900, RMSE = 1.5419, 기울기 a = 1.2731, y절편 b = 0.0504\n",
            "Epoch : 1000, RMSE = 1.5419, 기울기 a = 1.2736, y절편 b = 0.0475\n",
            "Epoch : 1100, RMSE = 1.5419, 기울기 a = 1.2737, y절편 b = 0.0464\n",
            "Epoch : 1200, RMSE = 1.5419, 기울기 a = 1.2738, y절편 b = 0.0461\n",
            "Epoch : 1300, RMSE = 1.5419, 기울기 a = 1.2738, y절편 b = 0.0460\n",
            "Epoch : 1400, RMSE = 1.5419, 기울기 a = 1.2738, y절편 b = 0.0459\n",
            "Epoch : 1500, RMSE = 1.5419, 기울기 a = 1.2738, y절편 b = 0.0459\n",
            "Epoch : 1600, RMSE = 1.5419, 기울기 a = 1.2738, y절편 b = 0.0459\n",
            "Epoch : 1700, RMSE = 1.5419, 기울기 a = 1.2738, y절편 b = 0.0459\n",
            "Epoch : 1800, RMSE = 1.5419, 기울기 a = 1.2738, y절편 b = 0.0459\n",
            "Epoch : 1900, RMSE = 1.5419, 기울기 a = 1.2738, y절편 b = 0.0459\n",
            "Epoch : 2000, RMSE = 1.5419, 기울기 a = 1.2738, y절편 b = 0.0459\n"
          ]
        }
      ]
    },
    {
      "cell_type": "code",
      "source": [
        "import tensorflow.compat.v1 as tf\n",
        "tf.disable_v2_behavior()\n",
        "\n",
        "data = [[2, 0, 81], [4, 4, 93], [6, 2, 91], [8, 3, 97]]\n",
        "x1 = [x_row1[0] for x_row1 in data]\n",
        "x2 = [x_row2[1] for x_row2 in data]\n",
        "y_data = [y_row[2] for y_row in data]\n",
        "\n",
        "a1 = tf.Variable(tf.random_uniform([1], 0, 10, dtype=tf.float64, seed = 0))\n",
        "a2 = tf.Variable(tf.random_uniform([1], 0, 10, dtype=tf.float64, seed = 0))\n",
        "b = tf.Variable(tf.random_uniform([1], 0, 100, dtype=tf.float64, seed = 0))\n",
        "\n",
        "y = a1*x1 + a2*x2 + b\n",
        "\n",
        "rmse = tf.sqrt(tf.reduce_mean(tf.square(y-y_data)))\n",
        "\n",
        "learning_rate = 0.1\n",
        "\n",
        "gradient_decent = tf.train.GradientDescentOptimizer(learning_rate).minimize(rmse)\n",
        "\n",
        "with tf.Session() as sess:\n",
        "  sess.run(tf.global_variables_initializer())\n",
        "  for step in range(2001):\n",
        "    sess.run(gradient_decent)\n",
        "    if step%100 == 0:\n",
        "      print(\"Epoch : %.f, RMSE = %.04f, 기울기 a1 = %.4f, 기울기 a2 = %.4f, y절편 b = %.4f\" %(step, sess.run(rmse), sess.run(a1), sess.run(a2), sess.run(b)))"
      ],
      "metadata": {
        "colab": {
          "base_uri": "https://localhost:8080/"
        },
        "id": "atQnZO7IkTFK",
        "outputId": "1096bea6-2695-4c26-9c1a-56bbb639adbc"
      },
      "execution_count": null,
      "outputs": [
        {
          "output_type": "stream",
          "name": "stdout",
          "text": [
            "Epoch : 0, RMSE = 60.1285, 기울기 a1 = 2.0818, 기울기 a2 = 1.8078, y절편 b = 15.9057\n",
            "Epoch : 100, RMSE = 22.9252, 기울기 a1 = 9.7380, 기울기 a2 = 5.2504, y절편 b = 20.9709\n",
            "Epoch : 200, RMSE = 21.3389, 기울기 a1 = 9.1863, 기울기 a2 = 5.0048, y절편 b = 24.9077\n",
            "Epoch : 300, RMSE = 19.7529, 기울기 a1 = 8.6253, 기울기 a2 = 4.7796, y절편 b = 28.8441\n",
            "Epoch : 400, RMSE = 18.1669, 기울기 a1 = 8.0588, 기울기 a2 = 4.5668, y절편 b = 32.7802\n",
            "Epoch : 500, RMSE = 16.5810, 기울기 a1 = 7.4890, 기울기 a2 = 4.3611, y절편 b = 36.7162\n",
            "Epoch : 600, RMSE = 14.9952, 기울기 a1 = 6.9175, 기울기 a2 = 4.1594, y절편 b = 40.6521\n",
            "Epoch : 700, RMSE = 13.4095, 기울기 a1 = 6.3451, 기울기 a2 = 3.9598, y절편 b = 44.5877\n",
            "Epoch : 800, RMSE = 11.8240, 기울기 a1 = 5.7722, 기울기 a2 = 3.7612, y절편 b = 48.5232\n",
            "Epoch : 900, RMSE = 10.2387, 기울기 a1 = 5.1992, 기울기 a2 = 3.5631, y절편 b = 52.4583\n",
            "Epoch : 1000, RMSE = 8.6537, 기울기 a1 = 4.6261, 기울기 a2 = 3.3651, y절편 b = 56.3931\n",
            "Epoch : 1100, RMSE = 7.0693, 기울기 a1 = 4.0532, 기울기 a2 = 3.1673, y절편 b = 60.3271\n",
            "Epoch : 1200, RMSE = 5.4859, 기울기 a1 = 3.4804, 기울기 a2 = 2.9695, y절편 b = 64.2598\n",
            "Epoch : 1300, RMSE = 3.9050, 기울기 a1 = 2.9080, 기울기 a2 = 2.7719, y절편 b = 68.1896\n",
            "Epoch : 1400, RMSE = 2.3311, 기울기 a1 = 2.3370, 기울기 a2 = 2.5747, y절편 b = 72.1105\n",
            "Epoch : 1500, RMSE = 1.8338, 기울기 a1 = 1.5564, 기울기 a2 = 2.2791, y절편 b = 75.7799\n",
            "Epoch : 1600, RMSE = 1.8367, 기울기 a1 = 1.3596, 기울기 a2 = 2.2085, y절편 b = 76.9572\n",
            "Epoch : 1700, RMSE = 1.8370, 기울기 a1 = 1.2833, 기울기 a2 = 2.1817, y절편 b = 77.4525\n",
            "Epoch : 1800, RMSE = 1.8370, 기울기 a1 = 1.2522, 기울기 a2 = 2.1709, y절편 b = 77.6608\n",
            "Epoch : 1900, RMSE = 1.8370, 기울기 a1 = 1.2394, 기울기 a2 = 2.1665, y절편 b = 77.7483\n",
            "Epoch : 2000, RMSE = 1.8370, 기울기 a1 = 1.2340, 기울기 a2 = 2.1646, y절편 b = 77.7850\n"
          ]
        }
      ]
    },
    {
      "cell_type": "code",
      "source": [
        "import tensorflow.compat.v1 as tf\n",
        "tf.disable_v2_behavior()\n",
        "import numpy as np\n",
        "\n",
        "data = [[2, 0], [4, 0], [6, 0], [8, 1], [10, 1], [12, 1], [14, 1]]\n",
        "x1 = [x_row1[0] for x_row1 in data]\n",
        "x2 = [x_row2[1] for x_row2 in data]\n",
        "\n",
        "a = tf.Variable(tf.random_normal([1], 0, 10, dtype=tf.float64, seed = 0))\n",
        "b = tf.Variable(tf.random_normal([1], 0, 100, dtype=tf.float64, seed = 0))\n",
        "\n",
        "y = 1/(1 + np.e**(a * x_data + b))\n",
        "\n",
        "loss = -tf.reduce_mean(np.array(y_data) * tf.log(y) + (1 - np.array(y_data)) * tf.log(1 - y))\n",
        "learning_rate = 0.5\n",
        "\n",
        "gradient_decent = tf.train.GradientDescentOptimizer(learning_rate).minimize(rmse)\n",
        "\n",
        "with tf.Session() as sess:\n",
        "  sess.run(tf.global_variables_initializer())\n",
        "  for i in range(60001):\n",
        "    sess.run(gradient_decent)\n",
        "    if i%6000 == 0:\n",
        "      print(\"Epoch : %.f, loss = %.04f, 기울기 a = %.4f, 바이어스 = %.4f\" %(i, sess.run(loss), sess.run(a), sess.run(b)))"
      ],
      "metadata": {
        "colab": {
          "base_uri": "https://localhost:8080/"
        },
        "id": "ABAawGIKz0qw",
        "outputId": "4c048a59-401e-4b4a-e3d5-1ac049d54984"
      },
      "execution_count": null,
      "outputs": [
        {
          "output_type": "stream",
          "name": "stdout",
          "text": [
            "Epoch : 0, loss = -inf, 기울기 a = -2.2849, 바이어스 = -22.8493\n",
            "Epoch : 6000, loss = -inf, 기울기 a = -2.2849, 바이어스 = -22.8493\n",
            "Epoch : 12000, loss = -inf, 기울기 a = -2.2849, 바이어스 = -22.8493\n",
            "Epoch : 18000, loss = -inf, 기울기 a = -2.2849, 바이어스 = -22.8493\n",
            "Epoch : 24000, loss = -inf, 기울기 a = -2.2849, 바이어스 = -22.8493\n",
            "Epoch : 30000, loss = -inf, 기울기 a = -2.2849, 바이어스 = -22.8493\n",
            "Epoch : 36000, loss = -inf, 기울기 a = -2.2849, 바이어스 = -22.8493\n",
            "Epoch : 42000, loss = -inf, 기울기 a = -2.2849, 바이어스 = -22.8493\n",
            "Epoch : 48000, loss = -inf, 기울기 a = -2.2849, 바이어스 = -22.8493\n",
            "Epoch : 54000, loss = -inf, 기울기 a = -2.2849, 바이어스 = -22.8493\n",
            "Epoch : 60000, loss = -inf, 기울기 a = -2.2849, 바이어스 = -22.8493\n"
          ]
        }
      ]
    }
  ]
}